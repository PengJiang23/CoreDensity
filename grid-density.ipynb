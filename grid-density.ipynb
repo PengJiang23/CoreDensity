{
 "cells": [
  {
   "metadata": {
    "ExecuteTime": {
     "end_time": "2024-08-20T12:38:10.666962Z",
     "start_time": "2024-08-20T12:38:07.109528Z"
    }
   },
   "cell_type": "code",
   "source": [
    "import numpy as np\n",
    "import pandas as pd\n",
    "from sklearn.metrics.pairwise import cosine_similarity\n",
    "from scipy.spatial.distance import pdist, squareform\n",
    "\n",
    "\n",
    "node_data = pd.read_csv('rank.csv')\n",
    "relation_data = pd.read_csv('rel.csv')\n",
    "relation_data['line_id'] = range(len(relation_data))\n",
    "\n",
    "# 初始化每个网格，每个网格中存储经过的线条的集合\n",
    "grid_size = 700\n",
    "grid_step = 1\n",
    "grid_vectors = np.empty((grid_size // grid_step, grid_size // grid_step), dtype=object)\n",
    "for i in range(grid_size // grid_step):\n",
    "    for j in range(grid_size // grid_step):\n",
    "        grid_vectors[i, j] = set()\n",
    "\n",
    "\n",
    "# 圆心与半径\n",
    "center_x, center_y = 950, 500\n",
    "radius = 401\n",
    "\n",
    "# 得到每个点的极坐标，然后筛选在圆内的点\n",
    "node_data['r'] = np.sqrt((node_data['x'] - center_x) ** 2 + (node_data['y'] - center_y) ** 2)\n",
    "node_data['theta'] = np.arctan2(node_data['y'] - center_y, node_data['x'] - center_x)\n",
    "\n",
    "node_data = node_data[node_data['r'] <= radius]\n",
    "\n",
    "# 原始坐标范围转换为0，2*radius区间内，然后归一化映射到网格中\n",
    "node_data['grid_x'] = ((node_data['x'] - (center_x - radius)) / (2 * radius) * (grid_size - 1)).astype(int)\n",
    "node_data['grid_y'] = ((node_data['y'] - (center_y - radius)) / (2 * radius) * (grid_size - 1)).astype(int)\n",
    "node_dict = node_data.set_index('id')[['grid_x', 'grid_y']].to_dict(orient='index')\n",
    "\n",
    "\n",
    "\n",
    "\n",
    "# 遍历所有的关系线条\n",
    "for _, row in relation_data.iterrows():\n",
    "    source_id = row['source']\n",
    "    target_id = row['target']\n",
    "    line_id = row['line_id']\n",
    "    \n",
    "    if source_id in node_dict and target_id in node_dict:\n",
    "        x0, y0 = node_dict[source_id]['grid_x'], node_dict[source_id]['grid_y']\n",
    "        x1, y1 = node_dict[target_id]['grid_x'], node_dict[target_id]['grid_y']\n",
    "        \n",
    "        # Bresenham算法计算经过的网格\n",
    "        dx = abs(x1 - x0)\n",
    "        dy = abs(y1 - y0)\n",
    "        sx = 1 if x0 < x1 else -1\n",
    "        sy = 1 if y0 < y1 else -1\n",
    "        err = dx - dy\n",
    "\n",
    "        while True:\n",
    "            grid_vectors[y0 // grid_step, x0 // grid_step].add(line_id)\n",
    "            if x0 == x1 and y0 == y1:\n",
    "                break\n",
    "            e2 = 2 * err\n",
    "            if e2 > -dy:\n",
    "                err -= dy\n",
    "                x0 += sx\n",
    "            if e2 < dx:\n",
    "                err += dx\n",
    "                y0 += sy\n",
    "\n",
    "\n",
    "# 网格采样，高密度区域和低密度区域的采样\n",
    "\n",
    "# 获取网格的线条密度\n",
    "grid_density = np.array([[len(grid_vectors[i, j]) for j in range(grid_size // grid_step)] for i in range(grid_size // grid_step)])\n",
    "\n",
    "# 找出高密度区域和低密度区域的阈值\n",
    "high_density_threshold = np.percentile(grid_density, 90)\n",
    "low_density_threshold = np.percentile(grid_density, 10)\n",
    "\n",
    "# 选取高密度和低密度区域\n",
    "high_density_coords = np.argwhere(grid_density >= high_density_threshold)\n",
    "low_density_coords = np.argwhere(grid_density <= low_density_threshold)"
   ],
   "id": "aa3a5891b6b4a23d",
   "outputs": [
    {
     "ename": "KeyboardInterrupt",
     "evalue": "",
     "output_type": "error",
     "traceback": [
      "\u001B[1;31m---------------------------------------------------------------------------\u001B[0m",
      "\u001B[1;31mKeyboardInterrupt\u001B[0m                         Traceback (most recent call last)",
      "Cell \u001B[1;32mIn[1], line 56\u001B[0m\n\u001B[0;32m     53\u001B[0m err \u001B[38;5;241m=\u001B[39m dx \u001B[38;5;241m-\u001B[39m dy\n\u001B[0;32m     55\u001B[0m \u001B[38;5;28;01mwhile\u001B[39;00m \u001B[38;5;28;01mTrue\u001B[39;00m:\n\u001B[1;32m---> 56\u001B[0m     \u001B[43mgrid_vectors\u001B[49m\u001B[43m[\u001B[49m\u001B[43my0\u001B[49m\u001B[43m \u001B[49m\u001B[38;5;241;43m/\u001B[39;49m\u001B[38;5;241;43m/\u001B[39;49m\u001B[43m \u001B[49m\u001B[43mgrid_step\u001B[49m\u001B[43m,\u001B[49m\u001B[43m \u001B[49m\u001B[43mx0\u001B[49m\u001B[43m \u001B[49m\u001B[38;5;241;43m/\u001B[39;49m\u001B[38;5;241;43m/\u001B[39;49m\u001B[43m \u001B[49m\u001B[43mgrid_step\u001B[49m\u001B[43m]\u001B[49m\u001B[38;5;241;43m.\u001B[39;49m\u001B[43madd\u001B[49m\u001B[43m(\u001B[49m\u001B[43mline_id\u001B[49m\u001B[43m)\u001B[49m\n\u001B[0;32m     57\u001B[0m     \u001B[38;5;28;01mif\u001B[39;00m x0 \u001B[38;5;241m==\u001B[39m x1 \u001B[38;5;129;01mand\u001B[39;00m y0 \u001B[38;5;241m==\u001B[39m y1:\n\u001B[0;32m     58\u001B[0m         \u001B[38;5;28;01mbreak\u001B[39;00m\n",
      "\u001B[1;31mKeyboardInterrupt\u001B[0m: "
     ]
    }
   ],
   "execution_count": 1
  },
  {
   "metadata": {
    "ExecuteTime": {
     "end_time": "2024-08-19T06:20:43.383643Z",
     "start_time": "2024-08-19T06:20:43.376549Z"
    }
   },
   "cell_type": "code",
   "source": [
    "# 随机采样高密度区域的网格20%\n",
    "np.random.seed(0)\n",
    "high_density_samples = high_density_coords[np.random.choice(len(high_density_coords), len(high_density_coords) // 2, replace=False)]"
   ],
   "id": "42c1609a74c4cff4",
   "outputs": [],
   "execution_count": 2
  },
  {
   "metadata": {
    "ExecuteTime": {
     "end_time": "2024-08-19T06:25:56.309154Z",
     "start_time": "2024-08-19T06:25:53.695761Z"
    }
   },
   "cell_type": "code",
   "source": [
    "# 两个网格Jaccard相似系数\n",
    "def jaccard_similarity(vec1, vec2):\n",
    "    vec1 = np.array(list(vec1))\n",
    "    vec2 = np.array(list(vec2))\n",
    "    intersection = len(set(vec1).intersection(set(vec2)))\n",
    "    union = len(set(vec1).union(set(vec2)))\n",
    "    return intersection / union if union > 0 else 0\n",
    "\n",
    "def calculate_neighborhood_jaccard(sampled_coords, grid_vectors):\n",
    "    jaccard_scores = {}\n",
    "    for coord in sampled_coords:\n",
    "        y, x = coord\n",
    "        sampled_set = grid_vectors[y, x]\n",
    "        neighbors = []\n",
    "        \n",
    "        # 获取邻近的网格\n",
    "        for dy in [-1, 0, 1]:\n",
    "            for dx in [-1, 0, 1]:\n",
    "                if dy == 0 and dx == 0:\n",
    "                    continue\n",
    "                ny, nx = y + dy, x + dx\n",
    "                if 0 <= ny < grid_vectors.shape[0] and 0 <= nx < grid_vectors.shape[1]:\n",
    "                    neighbors.append((ny, nx))\n",
    "        \n",
    "        # 计算 Jaccard 相似度并存储\n",
    "        for ny, nx in neighbors:\n",
    "            neighbor_set = grid_vectors[ny, nx]\n",
    "            jaccard = jaccard_similarity(sampled_set, neighbor_set)\n",
    "            jaccard_scores[(y, x, ny, nx)] = jaccard\n",
    "            \n",
    "    return jaccard_scores\n",
    "\n",
    "high_density_jaccard = calculate_neighborhood_jaccard(high_density_samples, grid_vectors)\n",
    "# low_density_samples = sample_representative(low_density_coords, grid_vectors)\n",
    "\n",
    "# high_density_samples 和 low_density_samples 现在包含了高密度和低密度区域的代表网格\n"
   ],
   "id": "b7ff8fa65970cd0b",
   "outputs": [],
   "execution_count": 20
  },
  {
   "metadata": {
    "ExecuteTime": {
     "end_time": "2024-08-19T06:29:58.963609Z",
     "start_time": "2024-08-19T06:29:58.666935Z"
    }
   },
   "cell_type": "code",
   "source": [
    "num_samples = len(high_density_samples)\n",
    "distance_matrix = np.ones((num_samples, num_samples))\n",
    "\n",
    "# Step 3: 计算采样网格之间的距离\n",
    "all_samples = high_density_samples\n",
    "\n",
    "for i in range(num_samples):\n",
    "    for j in range(i + 1, num_samples):\n",
    "        coord1 = all_samples[i]\n",
    "        coord2 = all_samples[j]\n",
    " \n",
    "        y1, x1 = coord1[0], coord1[1]\n",
    "        y2, x2 = coord2[0], coord2[1]\n",
    "        \n",
    "        jaccard_key1 = (y1, x1, y2, x2)\n",
    "        jaccard_key2 = (y2, x2, y1, x1)\n",
    "        \n",
    "        if jaccard_key1 in high_density_jaccard:\n",
    "            jaccard = high_density_jaccard[jaccard_key1]\n",
    "            distance_matrix[i, j] = 1 - jaccard\n",
    "            distance_matrix[j, i] = 1 - jaccard\n"
   ],
   "id": "aa8a2c41794e07fd",
   "outputs": [],
   "execution_count": 27
  },
  {
   "metadata": {
    "ExecuteTime": {
     "end_time": "2024-08-19T06:32:14.837660Z",
     "start_time": "2024-08-19T06:32:14.830662Z"
    }
   },
   "cell_type": "code",
   "source": [
    "non_one_count = np.sum(distance_matrix != 1.0)\n",
    "non_one_count"
   ],
   "id": "3d1603f424ac7704",
   "outputs": [
    {
     "data": {
      "text/plain": [
       "102"
      ]
     },
     "execution_count": 29,
     "metadata": {},
     "output_type": "execute_result"
    }
   ],
   "execution_count": 29
  },
  {
   "metadata": {},
   "cell_type": "code",
   "outputs": [],
   "execution_count": null,
   "source": "",
   "id": "d5a01c8c1a663d63"
  }
 ],
 "metadata": {
  "kernelspec": {
   "display_name": "Python 3",
   "language": "python",
   "name": "python3"
  },
  "language_info": {
   "codemirror_mode": {
    "name": "ipython",
    "version": 2
   },
   "file_extension": ".py",
   "mimetype": "text/x-python",
   "name": "python",
   "nbconvert_exporter": "python",
   "pygments_lexer": "ipython2",
   "version": "2.7.6"
  }
 },
 "nbformat": 4,
 "nbformat_minor": 5
}
