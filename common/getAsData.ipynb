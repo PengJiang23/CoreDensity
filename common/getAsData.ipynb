{
 "cells": [
  {
   "metadata": {},
   "cell_type": "markdown",
   "source": "### Get data from MySQL",
   "id": "1379be36ff823192"
  },
  {
   "cell_type": "code",
   "id": "initial_id",
   "metadata": {
    "collapsed": true,
    "ExecuteTime": {
     "end_time": "2024-08-26T04:54:59.542802Z",
     "start_time": "2024-08-26T04:54:59.259157Z"
    }
   },
   "source": [
    "import pandas as pd\n",
    "from common.utils.data_from_mysql import download_asdata\n",
    "from common.utils.AsRank import polarToCartesian, asrank_xydict\n",
    "from common.utils.AsRelation import fillRelCone, p2c_p2p\n",
    "from common.utils.As_rank_rel import rel_update_rank, rank_update_rel"
   ],
   "outputs": [],
   "execution_count": 1
  },
  {
   "metadata": {
    "ExecuteTime": {
     "end_time": "2024-08-15T06:35:59.346948Z",
     "start_time": "2024-08-15T06:35:38.965081Z"
    }
   },
   "cell_type": "code",
   "source": [
    "# 数据库获取\n",
    "sql_rank = \"select  * from rpki_asrank where date like '20240701'\"\n",
    "sql_rel = \" select * from rpki_asrelation where date like '20240701'\"\n",
    "rank = download_asdata(sql_rank)\n",
    "rel = download_asdata(sql_rel)"
   ],
   "id": "e12e571caaccaa66",
   "outputs": [],
   "execution_count": 27
  },
  {
   "metadata": {
    "ExecuteTime": {
     "end_time": "2024-08-26T04:55:02.783594Z",
     "start_time": "2024-08-26T04:55:02.624142Z"
    }
   },
   "cell_type": "code",
   "source": [
    "# 本地获取\n",
    "rank = pd.read_csv('rank.csv')\n",
    "rel = pd.read_csv('rel.csv')"
   ],
   "id": "25587ccd6e9fb333",
   "outputs": [],
   "execution_count": 2
  },
  {
   "metadata": {
    "ExecuteTime": {
     "end_time": "2024-08-26T04:55:07.348969Z",
     "start_time": "2024-08-26T04:55:07.249518Z"
    }
   },
   "cell_type": "code",
   "source": [
    "rank = polarToCartesian(rank,'cone', 400)\n",
    "rank = rank.astype({'id': 'int64'})\n",
    "rel = rel[['source','target','relation']]"
   ],
   "id": "1a31c1c9f7d97ee9",
   "outputs": [],
   "execution_count": 3
  },
  {
   "metadata": {
    "ExecuteTime": {
     "end_time": "2024-08-26T04:55:07.832630Z",
     "start_time": "2024-08-26T04:55:07.775644Z"
    }
   },
   "cell_type": "code",
   "source": [
    "# rank和rel数据对应匹配(也可以保留)\n",
    "print(len(rank), len(rel))\n",
    "asrel = rank_update_rel(rank, rel)\n",
    "asrank = rel_update_rank(rank, asrel)\n",
    "print(len(asrank), len(asrel))"
   ],
   "id": "8b0bca1576a66d0c",
   "outputs": [
    {
     "name": "stdout",
     "output_type": "stream",
     "text": [
      "58575 656538\n",
      "58575 656538\n"
     ]
    }
   ],
   "execution_count": 4
  },
  {
   "metadata": {
    "ExecuteTime": {
     "end_time": "2024-08-26T04:55:08.871115Z",
     "start_time": "2024-08-26T04:55:08.369192Z"
    }
   },
   "cell_type": "code",
   "source": [
    "asrank.to_csv('rank.csv', index=False)\n",
    "asrel.to_csv('rel.csv', index=False)"
   ],
   "id": "af36b6ef5de331f1",
   "outputs": [],
   "execution_count": 5
  },
  {
   "metadata": {},
   "cell_type": "code",
   "outputs": [],
   "execution_count": null,
   "source": "",
   "id": "a0afb3efd088affb"
  }
 ],
 "metadata": {
  "kernelspec": {
   "display_name": "Python 3",
   "language": "python",
   "name": "python3"
  },
  "language_info": {
   "codemirror_mode": {
    "name": "ipython",
    "version": 2
   },
   "file_extension": ".py",
   "mimetype": "text/x-python",
   "name": "python",
   "nbconvert_exporter": "python",
   "pygments_lexer": "ipython2",
   "version": "2.7.6"
  }
 },
 "nbformat": 4,
 "nbformat_minor": 5
}
