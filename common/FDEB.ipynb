{
 "cells": [
  {
   "metadata": {},
   "cell_type": "markdown",
   "source": [
    "### FDEB fromat\n",
    "\n",
    "eg.\n",
    "```text\n",
    "edge\n",
    "    {\n",
    "        \"source\": \"2\",\n",
    "        \"target\": \"3999\"\n",
    "    }\n",
    "node\n",
    "    \"3356\": {\n",
    "        \"x\": 950.0,\n",
    "        \"y\": 500.0,\n",
    "        \"z\": 0\n",
    "    }\n",
    "```\n"
   ],
   "id": "a4085d43626309b0"
  },
  {
   "metadata": {
    "ExecuteTime": {
     "end_time": "2024-08-15T07:08:41.334610Z",
     "start_time": "2024-08-15T07:08:41.125837Z"
    }
   },
   "cell_type": "code",
   "source": [
    "import pandas as pd\n",
    "from common.utils.As_rank_rel import fdeb_format\n",
    "rank = pd.read_csv('../rank.csv')\n",
    "rel = pd.read_csv('../rel.csv')"
   ],
   "id": "initial_id",
   "outputs": [],
   "execution_count": 8
  },
  {
   "metadata": {
    "ExecuteTime": {
     "end_time": "2024-08-15T07:08:53.937478Z",
     "start_time": "2024-08-15T07:08:41.393724Z"
    }
   },
   "cell_type": "code",
   "source": "fdeb_format(rank, rel)",
   "id": "3208ff3be587a189",
   "outputs": [],
   "execution_count": 9
  },
  {
   "metadata": {},
   "cell_type": "code",
   "outputs": [],
   "execution_count": null,
   "source": "",
   "id": "edab9a98838b7926"
  }
 ],
 "metadata": {
  "kernelspec": {
   "display_name": "Python 3",
   "language": "python",
   "name": "python3"
  },
  "language_info": {
   "codemirror_mode": {
    "name": "ipython",
    "version": 2
   },
   "file_extension": ".py",
   "mimetype": "text/x-python",
   "name": "python",
   "nbconvert_exporter": "python",
   "pygments_lexer": "ipython2",
   "version": "2.7.6"
  }
 },
 "nbformat": 4,
 "nbformat_minor": 5
}
